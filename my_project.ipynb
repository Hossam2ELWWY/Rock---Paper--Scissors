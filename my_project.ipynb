{
 "cells": [
  {
   "cell_type": "code",
   "execution_count": null,
   "id": "5d301e59",
   "metadata": {},
   "outputs": [],
   "source": [
    "def game():\n",
    "    \n",
    "    score = 0\n",
    "    import random \n",
    "   \n",
    "    my_game = [\"rock\", \"paper\", \"scissors\"]\n",
    "    name = input(\"enter your name : \")\n",
    "    print(f\"hi {name} let's play \")\n",
    "    while True:\n",
    "        \n",
    "        player_choice = input(\"Enter your choice (rock, paper, scissors): \").lower()\n",
    "        computer_choice = random.choice(my_game)\n",
    "\n",
    "        while player_choice not in my_game:\n",
    "            print(\"Invalid choice, please enter rock, paper, or scissors.\")\n",
    "            player_choice = input(\"Enter your choice (rock, paper, scissors): \").lower()\n",
    "\n",
    "        print(\"Computer chose:\",computer_choice)    \n",
    "\n",
    "        if player_choice == computer_choice:\n",
    "            print(\"It's a tie!\")\n",
    "        elif player_choice == \"rock\" and computer_choice == \"scissors\":\n",
    "            print(\"You win!\")\n",
    "            score+=1\n",
    "        elif player_choice == \"paper\" and computer_choice == \"rock\":\n",
    "            print(\"You win!\")\n",
    "            score+=1\n",
    "           \n",
    "        elif player_choice == \"scissors\" and computer_choice == \"paper\":\n",
    "            print(\"You win!\")\n",
    "            score+=1\n",
    "        else:\n",
    "            print(\"You lose!\")\n",
    "        print(\"your score\",score)    \n",
    "        opinion = input(\"DO you want play again?(y/n) \")\n",
    "        if opinion.lower() == \"y\":\n",
    "            continue\n",
    "        elif opinion.lower() == \"n\":\n",
    "            print(\"Thanks for playing\")\n",
    "            print(\"see you soon\")\n",
    "            break\n",
    "        else:\n",
    "            print(\"invalid chose , please enter y or n\")\n",
    "            opinion = input(\"DO you want play again?(y/n) \")"
   ]
  },
  {
   "cell_type": "code",
   "execution_count": null,
   "id": "d0e75507",
   "metadata": {},
   "outputs": [],
   "source": []
  }
 ],
 "metadata": {
  "kernelspec": {
   "display_name": "Python 3 (ipykernel)",
   "language": "python",
   "name": "python3"
  },
  "language_info": {
   "codemirror_mode": {
    "name": "ipython",
    "version": 3
   },
   "file_extension": ".py",
   "mimetype": "text/x-python",
   "name": "python",
   "nbconvert_exporter": "python",
   "pygments_lexer": "ipython3",
   "version": "3.11.3"
  }
 },
 "nbformat": 4,
 "nbformat_minor": 5
}
